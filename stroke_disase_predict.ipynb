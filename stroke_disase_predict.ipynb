{
 "cells": [
  {
   "cell_type": "code",
   "id": "initial_id",
   "metadata": {
    "collapsed": true
   },
   "source": [
    "# import libraries\n",
    "\n",
    "import os\n",
    "from operator import index\n",
    "\n",
    "import numpy as np\n",
    "import pandas as pd\n",
    "\n",
    "import matplotlib.pyplot as plt\n",
    "import seaborn as sns\n",
    "\n",
    "from sklearn.pipeline import Pipeline\n",
    "\n",
    "from sklearn.preprocessing import StandardScaler\n",
    "from sklearn.model_selection import train_test_split\n",
    "from sklearn.linear_model import LogisticRegression\n",
    "from sklearn.tree import DecisionTreeRegressor\n",
    "\n",
    "from sklearn.metrics import classification_report, confusion_matrix, accuracy_score\n",
    "\n",
    "import warnings\n",
    "warnings.filterwarnings('ignore')\n"
   ],
   "outputs": [],
   "execution_count": null
  },
  {
   "metadata": {},
   "cell_type": "code",
   "source": "os.chdir('res')",
   "id": "98109a65956e3339",
   "outputs": [],
   "execution_count": null
  },
  {
   "metadata": {},
   "cell_type": "code",
   "source": [
    "# load data and EDA\n",
    "df = pd.read_csv('healthcare-dataset-stroke-data.csv')\n",
    "df.drop(columns=['id'],inplace=True)\n",
    "df.head()"
   ],
   "id": "85cb4fc4776d12ba",
   "outputs": [],
   "execution_count": null
  },
  {
   "metadata": {},
   "cell_type": "code",
   "source": [
    "# stroke labels\n",
    "plt.figure()\n",
    "sns.countplot(x = 'stroke', data=df)\n",
    "plt.title('Distribution of Stroke Class')\n",
    "plt.show()"
   ],
   "id": "73cce5ca5ef63a80",
   "outputs": [],
   "execution_count": null
  },
  {
   "metadata": {},
   "cell_type": "code",
   "source": [
    "# missing value : decision tree regressor\n",
    "df.isna().sum()\n",
    "# bmi <-> age/ gender\n",
    "\n",
    "steps = [('scale',StandardScaler()), # data standardization\n",
    "         ('dtr',DecisionTreeRegressor(random_state=42))] # dtr model\n",
    "\n",
    "DT_bmi_pipe = Pipeline(steps=steps)"
   ],
   "id": "c6fac0c67425453",
   "outputs": [],
   "execution_count": null
  },
  {
   "metadata": {},
   "cell_type": "code",
   "source": [
    "# work type, age, smoking_status, avg_glucose_level\n",
    "X = df[['work_type','age','smoking_status','avg_glucose_level','bmi']].copy()\n",
    "X.info()"
   ],
   "id": "38ce064bfc188a03",
   "outputs": [],
   "execution_count": null
  },
  {
   "metadata": {},
   "cell_type": "code",
   "source": [
    "work_type_dict = {'Private' : 1,\n",
    "                  'Self-employed' : 3,\n",
    "                  'Govt_job' : 2,\n",
    "                  'children' : -1,\n",
    "                  'Never_worked' : 0}\n",
    "\n",
    "smoking_status_dict = {'never smoked' : 0,\n",
    "                       'smokes' : 1,\n",
    "                       'formerly smoked' : 2,\n",
    "                       'Unknown' : -1}"
   ],
   "id": "5e9a24a9b672346c",
   "outputs": [],
   "execution_count": null
  },
  {
   "metadata": {},
   "cell_type": "code",
   "source": [
    "def cnvrt_cat2num(col,col_dict,data = X):\n",
    "    data[col].replace(col_dict,inplace=True)\n",
    "    data[col] = pd.to_numeric(data[col],errors='coerce')\n",
    "    \n",
    "X['work_type'].replace(work_type_dict,inplace=True)\n",
    "X['smoking_status'].replace(smoking_status_dict,inplace=True)"
   ],
   "id": "692439a008ab2ae8",
   "outputs": [],
   "execution_count": null
  },
  {
   "metadata": {},
   "cell_type": "code",
   "source": [
    "# nan bmi values rows\n",
    "missing_data = X[X.bmi.isna()]\n",
    "X = X[~X.bmi.isna()]\n",
    "y = X.pop('bmi')\n",
    "y"
   ],
   "id": "db63251c967ac532",
   "outputs": [],
   "execution_count": null
  },
  {
   "metadata": {},
   "cell_type": "code",
   "source": "X",
   "id": "eee724af01c3b69d",
   "outputs": [],
   "execution_count": null
  },
  {
   "metadata": {},
   "cell_type": "code",
   "source": [
    "# train model with full data\n",
    "DT_bmi_pipe.fit(X,y)\n",
    "\n",
    "# predict missing bmi data\n",
    "# use gender and age\n",
    "\n",
    "params = ['work_type','age','smoking_status','avg_glucose_level']\n",
    "predicted_bmi = pd.Series(DT_bmi_pipe.predict(missing_data[params]), index = missing_data.index)\n",
    "df.loc[missing_data.index, 'bmi'] = predicted_bmi\n",
    "df.isna().sum()"
   ],
   "id": "7ca0fe4a58330698",
   "outputs": [],
   "execution_count": null
  },
  {
   "metadata": {},
   "cell_type": "code",
   "source": [
    "df_copied = df.copy()\n",
    "df_copied"
   ],
   "id": "d351891addc104c2",
   "outputs": [],
   "execution_count": null
  },
  {
   "metadata": {},
   "cell_type": "code",
   "source": [
    "work_type_dict = {'Private' : 1,\n",
    "                  'Self-employed' : 3,\n",
    "                  'Govt_job' : 2,\n",
    "                  'children' : -1,\n",
    "                  'Never_worked' : 0}\n",
    "\n",
    "residence_type_dict = {'Urban' : 0,\n",
    "                       'Rural' : 1 }\n",
    "\n",
    "smoking_status_dict = {'never smoked' : 0,\n",
    "                       'smokes' : 1,\n",
    "                       'formerly smoked' : 2,\n",
    "                       'Unknown' : -1}\n",
    "\n",
    "gender_dict = {'Male' : 1,\n",
    "               'Female' : 0,\n",
    "               'Other' : -1}\n",
    "\n",
    "ever_married_dict = {'No' : 0 , 'Yes' : 1}"
   ],
   "id": "ca4dc876a1c9b76c",
   "outputs": [],
   "execution_count": null
  },
  {
   "metadata": {},
   "cell_type": "code",
   "source": "df_copied.info()",
   "id": "6398f94995f94a65",
   "outputs": [],
   "execution_count": null
  },
  {
   "metadata": {},
   "cell_type": "code",
   "source": [
    "cnvrt_cat2num('work_type',work_type_dict,df_copied)\n",
    "cnvrt_cat2num('smoking_status',smoking_status_dict,df_copied)\n",
    "cnvrt_cat2num('Residence_type',residence_type_dict,df_copied)\n",
    "cnvrt_cat2num('gender',gender_dict,df_copied)\n",
    "cnvrt_cat2num('ever_married',ever_married_dict,df_copied)"
   ],
   "id": "c9e935096369bf55",
   "outputs": [],
   "execution_count": null
  },
  {
   "metadata": {},
   "cell_type": "code",
   "source": "df_copied.info()",
   "id": "8b1438f6e902b7c7",
   "outputs": [],
   "execution_count": null
  },
  {
   "metadata": {},
   "cell_type": "code",
   "source": [
    "plt.figure(figsize=(15,20))\n",
    "sns.heatmap(df_copied.select_dtypes(include=['number']).corr()[['stroke']].sort_values(by='stroke',ascending=False),\n",
    "            annot=True, linewidths=2, linecolor='white',cbar=False, cmap = 'coolwarm')\n",
    "plt.title('STROKE CORRELATION ANALYSIS')\n",
    "plt.show()"
   ],
   "id": "de0935ae284aea8a",
   "outputs": [],
   "execution_count": null
  },
  {
   "metadata": {},
   "cell_type": "code",
   "source": [
    "X = df_copied[['age','heart_disease','avg_glucose_level','hypertension','ever_married']]\n",
    "y = df_copied['stroke']"
   ],
   "id": "69601a16763d354",
   "outputs": [],
   "execution_count": null
  },
  {
   "metadata": {},
   "cell_type": "code",
   "source": "X_train, X_test, y_train, y_test = train_test_split(X, y, test_size=0.1, random_state=42)",
   "id": "4e1216defe9b195a",
   "outputs": [],
   "execution_count": null
  },
  {
   "metadata": {},
   "cell_type": "code",
   "source": [
    "steps = [('scale',StandardScaler()), ('LR',LogisticRegression())]\n",
    "log_reg_pipe = Pipeline(steps=steps)"
   ],
   "id": "a555d1086cef01a2",
   "outputs": [],
   "execution_count": null
  },
  {
   "metadata": {},
   "cell_type": "code",
   "source": [
    "# model training\n",
    "log_reg_pipe.fit(X_train, y_train)\n",
    "\n",
    "# model test\n",
    "y_pred = log_reg_pipe.predict(X_test)\n"
   ],
   "id": "f9034a29de3b366",
   "outputs": [],
   "execution_count": null
  },
  {
   "metadata": {
    "ExecuteTime": {
     "end_time": "2025-01-29T07:38:08.279816Z",
     "start_time": "2025-01-29T07:38:08.264178Z"
    }
   },
   "cell_type": "code",
   "source": [
    "print(\"accuracy : \\n\",accuracy_score(y_test, y_pred))\n",
    "print(\"cr : \\n\",classification_report(y_test, y_pred))   \n",
    "print(\"cm : \\n\",confusion_matrix(y_test, y_pred))\n"
   ],
   "id": "4d6e7a3f87203815",
   "outputs": [
    {
     "name": "stdout",
     "output_type": "stream",
     "text": [
      "accuracy : \n",
      " 0.9452054794520548\n",
      "cr : \n",
      "               precision    recall  f1-score   support\n",
      "\n",
      "           0       0.95      1.00      0.97       483\n",
      "           1       0.00      0.00      0.00        28\n",
      "\n",
      "    accuracy                           0.95       511\n",
      "   macro avg       0.47      0.50      0.49       511\n",
      "weighted avg       0.89      0.95      0.92       511\n",
      "\n",
      "cm : \n",
      " [[483   0]\n",
      " [ 28   0]]\n"
     ]
    }
   ],
   "execution_count": 30
  },
  {
   "metadata": {},
   "cell_type": "code",
   "source": "",
   "id": "bafbd71b64285028",
   "outputs": [],
   "execution_count": null
  }
 ],
 "metadata": {
  "kernelspec": {
   "display_name": "Python 3",
   "language": "python",
   "name": "python3"
  },
  "language_info": {
   "codemirror_mode": {
    "name": "ipython",
    "version": 2
   },
   "file_extension": ".py",
   "mimetype": "text/x-python",
   "name": "python",
   "nbconvert_exporter": "python",
   "pygments_lexer": "ipython2",
   "version": "2.7.6"
  }
 },
 "nbformat": 4,
 "nbformat_minor": 5
}
