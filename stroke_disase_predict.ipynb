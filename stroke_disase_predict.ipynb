{
 "cells": [
  {
   "cell_type": "code",
   "id": "initial_id",
   "metadata": {
    "collapsed": true,
    "ExecuteTime": {
     "end_time": "2025-01-29T08:53:50.170472Z",
     "start_time": "2025-01-29T08:53:49.967176Z"
    }
   },
   "source": [
    "# import libraries\n",
    "\n",
    "import os\n",
    "from operator import index\n",
    "\n",
    "import numpy as np\n",
    "import pandas as pd\n",
    "\n",
    "import matplotlib.pyplot as plt\n",
    "import seaborn as sns\n",
    "\n",
    "from sklearn.pipeline import Pipeline\n",
    "\n",
    "from sklearn.preprocessing import StandardScaler\n",
    "from sklearn.model_selection import train_test_split\n",
    "from sklearn.linear_model import LogisticRegression\n",
    "from sklearn.tree import DecisionTreeRegressor\n",
    "\n",
    "from sklearn.metrics import classification_report, confusion_matrix, accuracy_score\n",
    "\n",
    "import warnings\n",
    "warnings.filterwarnings('ignore')\n"
   ],
   "outputs": [],
   "execution_count": 1
  },
  {
   "metadata": {
    "ExecuteTime": {
     "end_time": "2025-01-29T08:53:50.186095Z",
     "start_time": "2025-01-29T08:53:50.170472Z"
    }
   },
   "cell_type": "code",
   "source": "os.chdir('res')",
   "id": "98109a65956e3339",
   "outputs": [],
   "execution_count": 2
  },
  {
   "metadata": {
    "ExecuteTime": {
     "end_time": "2025-01-29T08:53:50.421769Z",
     "start_time": "2025-01-29T08:53:50.390070Z"
    }
   },
   "cell_type": "code",
   "source": [
    "# load data and EDA\n",
    "df = pd.read_csv('healthcare-dataset-stroke-data.csv')\n",
    "df.drop(columns=['id'],inplace=True)\n",
    "df.head()\n",
    "# unbalanced dataset detected."
   ],
   "id": "85cb4fc4776d12ba",
   "outputs": [
    {
     "data": {
      "text/plain": [
       "   gender   age  hypertension  heart_disease ever_married      work_type  \\\n",
       "0    Male  67.0             0              1          Yes        Private   \n",
       "1  Female  61.0             0              0          Yes  Self-employed   \n",
       "2    Male  80.0             0              1          Yes        Private   \n",
       "3  Female  49.0             0              0          Yes        Private   \n",
       "4  Female  79.0             1              0          Yes  Self-employed   \n",
       "\n",
       "  Residence_type  avg_glucose_level   bmi   smoking_status  stroke  \n",
       "0          Urban             228.69  36.6  formerly smoked       1  \n",
       "1          Rural             202.21   NaN     never smoked       1  \n",
       "2          Rural             105.92  32.5     never smoked       1  \n",
       "3          Urban             171.23  34.4           smokes       1  \n",
       "4          Rural             174.12  24.0     never smoked       1  "
      ],
      "text/html": [
       "<div>\n",
       "<style scoped>\n",
       "    .dataframe tbody tr th:only-of-type {\n",
       "        vertical-align: middle;\n",
       "    }\n",
       "\n",
       "    .dataframe tbody tr th {\n",
       "        vertical-align: top;\n",
       "    }\n",
       "\n",
       "    .dataframe thead th {\n",
       "        text-align: right;\n",
       "    }\n",
       "</style>\n",
       "<table border=\"1\" class=\"dataframe\">\n",
       "  <thead>\n",
       "    <tr style=\"text-align: right;\">\n",
       "      <th></th>\n",
       "      <th>gender</th>\n",
       "      <th>age</th>\n",
       "      <th>hypertension</th>\n",
       "      <th>heart_disease</th>\n",
       "      <th>ever_married</th>\n",
       "      <th>work_type</th>\n",
       "      <th>Residence_type</th>\n",
       "      <th>avg_glucose_level</th>\n",
       "      <th>bmi</th>\n",
       "      <th>smoking_status</th>\n",
       "      <th>stroke</th>\n",
       "    </tr>\n",
       "  </thead>\n",
       "  <tbody>\n",
       "    <tr>\n",
       "      <th>0</th>\n",
       "      <td>Male</td>\n",
       "      <td>67.0</td>\n",
       "      <td>0</td>\n",
       "      <td>1</td>\n",
       "      <td>Yes</td>\n",
       "      <td>Private</td>\n",
       "      <td>Urban</td>\n",
       "      <td>228.69</td>\n",
       "      <td>36.6</td>\n",
       "      <td>formerly smoked</td>\n",
       "      <td>1</td>\n",
       "    </tr>\n",
       "    <tr>\n",
       "      <th>1</th>\n",
       "      <td>Female</td>\n",
       "      <td>61.0</td>\n",
       "      <td>0</td>\n",
       "      <td>0</td>\n",
       "      <td>Yes</td>\n",
       "      <td>Self-employed</td>\n",
       "      <td>Rural</td>\n",
       "      <td>202.21</td>\n",
       "      <td>NaN</td>\n",
       "      <td>never smoked</td>\n",
       "      <td>1</td>\n",
       "    </tr>\n",
       "    <tr>\n",
       "      <th>2</th>\n",
       "      <td>Male</td>\n",
       "      <td>80.0</td>\n",
       "      <td>0</td>\n",
       "      <td>1</td>\n",
       "      <td>Yes</td>\n",
       "      <td>Private</td>\n",
       "      <td>Rural</td>\n",
       "      <td>105.92</td>\n",
       "      <td>32.5</td>\n",
       "      <td>never smoked</td>\n",
       "      <td>1</td>\n",
       "    </tr>\n",
       "    <tr>\n",
       "      <th>3</th>\n",
       "      <td>Female</td>\n",
       "      <td>49.0</td>\n",
       "      <td>0</td>\n",
       "      <td>0</td>\n",
       "      <td>Yes</td>\n",
       "      <td>Private</td>\n",
       "      <td>Urban</td>\n",
       "      <td>171.23</td>\n",
       "      <td>34.4</td>\n",
       "      <td>smokes</td>\n",
       "      <td>1</td>\n",
       "    </tr>\n",
       "    <tr>\n",
       "      <th>4</th>\n",
       "      <td>Female</td>\n",
       "      <td>79.0</td>\n",
       "      <td>1</td>\n",
       "      <td>0</td>\n",
       "      <td>Yes</td>\n",
       "      <td>Self-employed</td>\n",
       "      <td>Rural</td>\n",
       "      <td>174.12</td>\n",
       "      <td>24.0</td>\n",
       "      <td>never smoked</td>\n",
       "      <td>1</td>\n",
       "    </tr>\n",
       "  </tbody>\n",
       "</table>\n",
       "</div>"
      ]
     },
     "execution_count": 3,
     "metadata": {},
     "output_type": "execute_result"
    }
   ],
   "execution_count": 3
  },
  {
   "metadata": {
    "ExecuteTime": {
     "end_time": "2025-01-29T08:53:50.499897Z",
     "start_time": "2025-01-29T08:53:50.484272Z"
    }
   },
   "cell_type": "code",
   "source": [
    "stroke_0_df = df[df['stroke'] == 0]\n",
    "stroke_1_df = df[df['stroke'] == 1]\n",
    "\n",
    "num_rows = len(stroke_1_df) * 2\n",
    "\n",
    "rate = num_rows / len(stroke_0_df)\n",
    "\n",
    "\n",
    "stroke_0_df_reduced = stroke_0_df.sample(frac = rate, random_state = 42)\n",
    "\n",
    "balanced_df = pd.concat([stroke_0_df_reduced,stroke_1_df])\n",
    "\n",
    "df = balanced_df.sample(frac = 1, random_state = 42)\n"
   ],
   "id": "a4999986e024dd59",
   "outputs": [],
   "execution_count": 4
  },
  {
   "metadata": {
    "ExecuteTime": {
     "end_time": "2025-01-29T08:53:50.694078Z",
     "start_time": "2025-01-29T08:53:50.546854Z"
    }
   },
   "cell_type": "code",
   "source": [
    "# stroke labels\n",
    "plt.figure()\n",
    "sns.countplot(x = 'stroke', data=df)\n",
    "plt.title('Distribution of Stroke Class')\n",
    "plt.show()"
   ],
   "id": "73cce5ca5ef63a80",
   "outputs": [
    {
     "data": {
      "text/plain": [
       "<Figure size 640x480 with 1 Axes>"
      ],
      "image/png": "[encoded data removed]"
     },
     "metadata": {},
     "output_type": "display_data"
    }
   ],
   "execution_count": 5
  },
  {
   "metadata": {
    "ExecuteTime": {
     "end_time": "2025-01-29T08:53:50.725340Z",
     "start_time": "2025-01-29T08:53:50.709705Z"
    }
   },
   "cell_type": "code",
   "source": [
    "# missing value : decision tree regressor\n",
    "df.isna().sum()\n",
    "# bmi <-> age/ gender\n",
    "\n",
    "steps = [('scale',StandardScaler()), # data standardization\n",
    "         ('dtr',DecisionTreeRegressor(random_state=42))] # dtr model\n",
    "\n",
    "DT_bmi_pipe = Pipeline(steps=steps)"
   ],
   "id": "c6fac0c67425453",
   "outputs": [],
   "execution_count": 6
  },
  {
   "metadata": {
    "ExecuteTime": {
     "end_time": "2025-01-29T08:53:50.787837Z",
     "start_time": "2025-01-29T08:53:50.756583Z"
    }
   },
   "cell_type": "code",
   "source": [
    "# work type, age, smoking_status, avg_glucose_level\n",
    "X = df[['work_type','age','smoking_status','avg_glucose_level','bmi']].copy()\n",
    "X.info()"
   ],
   "id": "38ce064bfc188a03",
   "outputs": [
    {
     "name": "stdout",
     "output_type": "stream",
     "text": [
      "<class 'pandas.core.frame.DataFrame'>\n",
      "Index: 747 entries, 4686 to 3129\n",
      "Data columns (total 5 columns):\n",
      " #   Column             Non-Null Count  Dtype  \n",
      "---  ------             --------------  -----  \n",
      " 0   work_type          747 non-null    object \n",
      " 1   age                747 non-null    float64\n",
      " 2   smoking_status     747 non-null    object \n",
      " 3   avg_glucose_level  747 non-null    float64\n",
      " 4   bmi                687 non-null    float64\n",
      "dtypes: float64(3), object(2)\n",
      "memory usage: 35.0+ KB\n"
     ]
    }
   ],
   "execution_count": 7
  },
  {
   "metadata": {
    "ExecuteTime": {
     "end_time": "2025-01-29T08:53:50.870315Z",
     "start_time": "2025-01-29T08:53:50.850458Z"
    }
   },
   "cell_type": "code",
   "source": [
    "work_type_dict = {'Private' : 1,\n",
    "                  'Self-employed' : 3,\n",
    "                  'Govt_job' : 2,\n",
    "                  'children' : -1,\n",
    "                  'Never_worked' : 0}\n",
    "\n",
    "smoking_status_dict = {'never smoked' : 0,\n",
    "                       'smokes' : 1,\n",
    "                       'formerly smoked' : 2,\n",
    "                       'Unknown' : -1}"
   ],
   "id": "5e9a24a9b672346c",
   "outputs": [],
   "execution_count": 8
  },
  {
   "metadata": {
    "ExecuteTime": {
     "end_time": "2025-01-29T08:53:50.885949Z",
     "start_time": "2025-01-29T08:53:50.870315Z"
    }
   },
   "cell_type": "code",
   "source": [
    "def cnvrt_cat2num(col,col_dict,data = X):\n",
    "    data[col].replace(col_dict,inplace=True)\n",
    "    data[col] = pd.to_numeric(data[col],errors='coerce')\n",
    "    \n",
    "X['work_type'].replace(work_type_dict,inplace=True)\n",
    "X['smoking_status'].replace(smoking_status_dict,inplace=True)"
   ],
   "id": "692439a008ab2ae8",
   "outputs": [],
   "execution_count": 9
  },
  {
   "metadata": {
    "ExecuteTime": {
     "end_time": "2025-01-29T08:53:50.942570Z",
     "start_time": "2025-01-29T08:53:50.932909Z"
    }
   },
   "cell_type": "code",
   "source": [
    "# nan bmi values rows\n",
    "missing_data = X[X.bmi.isna()]\n",
    "X = X[~X.bmi.isna()]\n",
    "y = X.pop('bmi')\n",
    "y"
   ],
   "id": "db63251c967ac532",
   "outputs": [
    {
     "data": {
      "text/plain": [
       "4686    25.0\n",
       "275     28.4\n",
       "2732    33.2\n",
       "3983    24.8\n",
       "3606    52.5\n",
       "        ... \n",
       "202     32.0\n",
       "4890    23.4\n",
       "3209    33.2\n",
       "4492    16.1\n",
       "3129    20.3\n",
       "Name: bmi, Length: 687, dtype: float64"
      ]
     },
     "execution_count": 10,
     "metadata": {},
     "output_type": "execute_result"
    }
   ],
   "execution_count": 10
  },
  {
   "metadata": {
    "ExecuteTime": {
     "end_time": "2025-01-29T08:53:51.036966Z",
     "start_time": "2025-01-29T08:53:51.021341Z"
    }
   },
   "cell_type": "code",
   "source": "X",
   "id": "eee724af01c3b69d",
   "outputs": [
    {
     "data": {
      "text/plain": [
       "      work_type   age  smoking_status  avg_glucose_level\n",
       "4686          3  70.0               0              96.82\n",
       "275           2  67.0               1              94.61\n",
       "2732          2  58.0               0              59.52\n",
       "3983          1  51.0               2              95.70\n",
       "3606          3  45.0              -1             239.19\n",
       "...         ...   ...             ...                ...\n",
       "202           3  77.0               0              90.00\n",
       "4890          1  56.0               0              66.32\n",
       "3209          1  67.0               2              65.51\n",
       "4492         -1   8.0              -1              87.15\n",
       "3129         -1  13.0              -1              75.85\n",
       "\n",
       "[687 rows x 4 columns]"
      ],
      "text/html": [
       "<div>\n",
       "<style scoped>\n",
       "    .dataframe tbody tr th:only-of-type {\n",
       "        vertical-align: middle;\n",
       "    }\n",
       "\n",
       "    .dataframe tbody tr th {\n",
       "        vertical-align: top;\n",
       "    }\n",
       "\n",
       "    .dataframe thead th {\n",
       "        text-align: right;\n",
       "    }\n",
       "</style>\n",
       "<table border=\"1\" class=\"dataframe\">\n",
       "  <thead>\n",
       "    <tr style=\"text-align: right;\">\n",
       "      <th></th>\n",
       "      <th>work_type</th>\n",
       "      <th>age</th>\n",
       "      <th>smoking_status</th>\n",
       "      <th>avg_glucose_level</th>\n",
       "    </tr>\n",
       "  </thead>\n",
       "  <tbody>\n",
       "    <tr>\n",
       "      <th>4686</th>\n",
       "      <td>3</td>\n",
       "      <td>70.0</td>\n",
       "      <td>0</td>\n",
       "      <td>96.82</td>\n",
       "    </tr>\n",
       "    <tr>\n",
       "      <th>275</th>\n",
       "      <td>2</td>\n",
       "      <td>67.0</td>\n",
       "      <td>1</td>\n",
       "      <td>94.61</td>\n",
       "    </tr>\n",
       "    <tr>\n",
       "      <th>2732</th>\n",
       "      <td>2</td>\n",
       "      <td>58.0</td>\n",
       "      <td>0</td>\n",
       "      <td>59.52</td>\n",
       "    </tr>\n",
       "    <tr>\n",
       "      <th>3983</th>\n",
       "      <td>1</td>\n",
       "      <td>51.0</td>\n",
       "      <td>2</td>\n",
       "      <td>95.70</td>\n",
       "    </tr>\n",
       "    <tr>\n",
       "      <th>3606</th>\n",
       "      <td>3</td>\n",
       "      <td>45.0</td>\n",
       "      <td>-1</td>\n",
       "      <td>239.19</td>\n",
       "    </tr>\n",
       "    <tr>\n",
       "      <th>...</th>\n",
       "      <td>...</td>\n",
       "      <td>...</td>\n",
       "      <td>...</td>\n",
       "      <td>...</td>\n",
       "    </tr>\n",
       "    <tr>\n",
       "      <th>202</th>\n",
       "      <td>3</td>\n",
       "      <td>77.0</td>\n",
       "      <td>0</td>\n",
       "      <td>90.00</td>\n",
       "    </tr>\n",
       "    <tr>\n",
       "      <th>4890</th>\n",
       "      <td>1</td>\n",
       "      <td>56.0</td>\n",
       "      <td>0</td>\n",
       "      <td>66.32</td>\n",
       "    </tr>\n",
       "    <tr>\n",
       "      <th>3209</th>\n",
       "      <td>1</td>\n",
       "      <td>67.0</td>\n",
       "      <td>2</td>\n",
       "      <td>65.51</td>\n",
       "    </tr>\n",
       "    <tr>\n",
       "      <th>4492</th>\n",
       "      <td>-1</td>\n",
       "      <td>8.0</td>\n",
       "      <td>-1</td>\n",
       "      <td>87.15</td>\n",
       "    </tr>\n",
       "    <tr>\n",
       "      <th>3129</th>\n",
       "      <td>-1</td>\n",
       "      <td>13.0</td>\n",
       "      <td>-1</td>\n",
       "      <td>75.85</td>\n",
       "    </tr>\n",
       "  </tbody>\n",
       "</table>\n",
       "<p>687 rows × 4 columns</p>\n",
       "</div>"
      ]
     },
     "execution_count": 11,
     "metadata": {},
     "output_type": "execute_result"
    }
   ],
   "execution_count": 11
  },
  {
   "metadata": {
    "ExecuteTime": {
     "end_time": "2025-01-29T08:53:51.115445Z",
     "start_time": "2025-01-29T08:53:51.083931Z"
    }
   },
   "cell_type": "code",
   "source": [
    "# train model with full data\n",
    "DT_bmi_pipe.fit(X,y)\n",
    "\n",
    "# predict missing bmi data\n",
    "# use gender and age\n",
    "\n",
    "params = ['work_type','age','smoking_status','avg_glucose_level']\n",
    "predicted_bmi = pd.Series(DT_bmi_pipe.predict(missing_data[params]), index = missing_data.index)\n",
    "df.loc[missing_data.index, 'bmi'] = predicted_bmi\n",
    "df.isna().sum()"
   ],
   "id": "7ca0fe4a58330698",
   "outputs": [
    {
     "data": {
      "text/plain": [
       "gender               0\n",
       "age                  0\n",
       "hypertension         0\n",
       "heart_disease        0\n",
       "ever_married         0\n",
       "work_type            0\n",
       "Residence_type       0\n",
       "avg_glucose_level    0\n",
       "bmi                  0\n",
       "smoking_status       0\n",
       "stroke               0\n",
       "dtype: int64"
      ]
     },
     "execution_count": 12,
     "metadata": {},
     "output_type": "execute_result"
    }
   ],
   "execution_count": 12
  },
  {
   "metadata": {
    "ExecuteTime": {
     "end_time": "2025-01-29T08:53:51.270451Z",
     "start_time": "2025-01-29T08:53:51.254668Z"
    }
   },
   "cell_type": "code",
   "source": [
    "df_copied = df.copy()\n",
    "df_copied"
   ],
   "id": "d351891addc104c2",
   "outputs": [
    {
     "data": {
      "text/plain": [
       "      gender   age  hypertension  heart_disease ever_married      work_type  \\\n",
       "4686  Female  70.0             0              0          Yes  Self-employed   \n",
       "275   Female  67.0             0              0          Yes       Govt_job   \n",
       "2732  Female  58.0             1              0          Yes       Govt_job   \n",
       "3983  Female  51.0             0              0          Yes        Private   \n",
       "3606    Male  45.0             1              0          Yes  Self-employed   \n",
       "...      ...   ...           ...            ...          ...            ...   \n",
       "4890  Female  56.0             0              0          Yes        Private   \n",
       "3209    Male  67.0             0              0          Yes        Private   \n",
       "4492  Female   8.0             0              0           No       children   \n",
       "2215    Male  67.0             0              1          Yes        Private   \n",
       "3129    Male  13.0             0              0           No       children   \n",
       "\n",
       "     Residence_type  avg_glucose_level   bmi   smoking_status  stroke  \n",
       "4686          Rural              96.82  25.0     never smoked       0  \n",
       "275           Rural              94.61  28.4           smokes       0  \n",
       "2732          Rural              59.52  33.2     never smoked       0  \n",
       "3983          Urban              95.70  24.8  formerly smoked       0  \n",
       "3606          Rural             239.19  52.5          Unknown       0  \n",
       "...             ...                ...   ...              ...     ...  \n",
       "4890          Urban              66.32  23.4     never smoked       0  \n",
       "3209          Rural              65.51  33.2  formerly smoked       0  \n",
       "4492          Urban              87.15  16.1          Unknown       0  \n",
       "2215          Rural              97.24  31.3          Unknown       0  \n",
       "3129          Urban              75.85  20.3          Unknown       0  \n",
       "\n",
       "[747 rows x 11 columns]"
      ],
      "text/html": [
       "<div>\n",
       "<style scoped>\n",
       "    .dataframe tbody tr th:only-of-type {\n",
       "        vertical-align: middle;\n",
       "    }\n",
       "\n",
       "    .dataframe tbody tr th {\n",
       "        vertical-align: top;\n",
       "    }\n",
       "\n",
       "    .dataframe thead th {\n",
       "        text-align: right;\n",
       "    }\n",
       "</style>\n",
       "<table border=\"1\" class=\"dataframe\">\n",
       "  <thead>\n",
       "    <tr style=\"text-align: right;\">\n",
       "      <th></th>\n",
       "      <th>gender</th>\n",
       "      <th>age</th>\n",
       "      <th>hypertension</th>\n",
       "      <th>heart_disease</th>\n",
       "      <th>ever_married</th>\n",
       "      <th>work_type</th>\n",
       "      <th>Residence_type</th>\n",
       "      <th>avg_glucose_level</th>\n",
       "      <th>bmi</th>\n",
       "      <th>smoking_status</th>\n",
       "      <th>stroke</th>\n",
       "    </tr>\n",
       "  </thead>\n",
       "  <tbody>\n",
       "    <tr>\n",
       "      <th>4686</th>\n",
       "      <td>Female</td>\n",
       "      <td>70.0</td>\n",
       "      <td>0</td>\n",
       "      <td>0</td>\n",
       "      <td>Yes</td>\n",
       "      <td>Self-employed</td>\n",
       "      <td>Rural</td>\n",
       "      <td>96.82</td>\n",
       "      <td>25.0</td>\n",
       "      <td>never smoked</td>\n",
       "      <td>0</td>\n",
       "    </tr>\n",
       "    <tr>\n",
       "      <th>275</th>\n",
       "      <td>Female</td>\n",
       "      <td>67.0</td>\n",
       "      <td>0</td>\n",
       "      <td>0</td>\n",
       "      <td>Yes</td>\n",
       "      <td>Govt_job</td>\n",
       "      <td>Rural</td>\n",
       "      <td>94.61</td>\n",
       "      <td>28.4</td>\n",
       "      <td>smokes</td>\n",
       "      <td>0</td>\n",
       "    </tr>\n",
       "    <tr>\n",
       "      <th>2732</th>\n",
       "      <td>Female</td>\n",
       "      <td>58.0</td>\n",
       "      <td>1</td>\n",
       "      <td>0</td>\n",
       "      <td>Yes</td>\n",
       "      <td>Govt_job</td>\n",
       "      <td>Rural</td>\n",
       "      <td>59.52</td>\n",
       "      <td>33.2</td>\n",
       "      <td>never smoked</td>\n",
       "      <td>0</td>\n",
       "    </tr>\n",
       "    <tr>\n",
       "      <th>3983</th>\n",
       "      <td>Female</td>\n",
       "      <td>51.0</td>\n",
       "      <td>0</td>\n",
       "      <td>0</td>\n",
       "      <td>Yes</td>\n",
       "      <td>Private</td>\n",
       "      <td>Urban</td>\n",
       "      <td>95.70</td>\n",
       "      <td>24.8</td>\n",
       "      <td>formerly smoked</td>\n",
       "      <td>0</td>\n",
       "    </tr>\n",
       "    <tr>\n",
       "      <th>3606</th>\n",
       "      <td>Male</td>\n",
       "      <td>45.0</td>\n",
       "      <td>1</td>\n",
       "      <td>0</td>\n",
       "      <td>Yes</td>\n",
       "      <td>Self-employed</td>\n",
       "      <td>Rural</td>\n",
       "      <td>239.19</td>\n",
       "      <td>52.5</td>\n",
       "      <td>Unknown</td>\n",
       "      <td>0</td>\n",
       "    </tr>\n",
       "    <tr>\n",
       "      <th>...</th>\n",
       "      <td>...</td>\n",
       "      <td>...</td>\n",
       "      <td>...</td>\n",
       "      <td>...</td>\n",
       "      <td>...</td>\n",
       "      <td>...</td>\n",
       "      <td>...</td>\n",
       "      <td>...</td>\n",
       "      <td>...</td>\n",
       "      <td>...</td>\n",
       "      <td>...</td>\n",
       "    </tr>\n",
       "    <tr>\n",
       "      <th>4890</th>\n",
       "      <td>Female</td>\n",
       "      <td>56.0</td>\n",
       "      <td>0</td>\n",
       "      <td>0</td>\n",
       "      <td>Yes</td>\n",
       "      <td>Private</td>\n",
       "      <td>Urban</td>\n",
       "      <td>66.32</td>\n",
       "      <td>23.4</td>\n",
       "      <td>never smoked</td>\n",
       "      <td>0</td>\n",
       "    </tr>\n",
       "    <tr>\n",
       "      <th>3209</th>\n",
       "      <td>Male</td>\n",
       "      <td>67.0</td>\n",
       "      <td>0</td>\n",
       "      <td>0</td>\n",
       "      <td>Yes</td>\n",
       "      <td>Private</td>\n",
       "      <td>Rural</td>\n",
       "      <td>65.51</td>\n",
       "      <td>33.2</td>\n",
       "      <td>formerly smoked</td>\n",
       "      <td>0</td>\n",
       "    </tr>\n",
       "    <tr>\n",
       "      <th>4492</th>\n",
       "      <td>Female</td>\n",
       "      <td>8.0</td>\n",
       "      <td>0</td>\n",
       "      <td>0</td>\n",
       "      <td>No</td>\n",
       "      <td>children</td>\n",
       "      <td>Urban</td>\n",
       "      <td>87.15</td>\n",
       "      <td>16.1</td>\n",
       "      <td>Unknown</td>\n",
       "      <td>0</td>\n",
       "    </tr>\n",
       "    <tr>\n",
       "      <th>2215</th>\n",
       "      <td>Male</td>\n",
       "      <td>67.0</td>\n",
       "      <td>0</td>\n",
       "      <td>1</td>\n",
       "      <td>Yes</td>\n",
       "      <td>Private</td>\n",
       "      <td>Rural</td>\n",
       "      <td>97.24</td>\n",
       "      <td>31.3</td>\n",
       "      <td>Unknown</td>\n",
       "      <td>0</td>\n",
       "    </tr>\n",
       "    <tr>\n",
       "      <th>3129</th>\n",
       "      <td>Male</td>\n",
       "      <td>13.0</td>\n",
       "      <td>0</td>\n",
       "      <td>0</td>\n",
       "      <td>No</td>\n",
       "      <td>children</td>\n",
       "      <td>Urban</td>\n",
       "      <td>75.85</td>\n",
       "      <td>20.3</td>\n",
       "      <td>Unknown</td>\n",
       "      <td>0</td>\n",
       "    </tr>\n",
       "  </tbody>\n",
       "</table>\n",
       "<p>747 rows × 11 columns</p>\n",
       "</div>"
      ]
     },
     "execution_count": 13,
     "metadata": {},
     "output_type": "execute_result"
    }
   ],
   "execution_count": 13
  },
  {
   "metadata": {
    "ExecuteTime": {
     "end_time": "2025-01-29T08:53:51.380650Z",
     "start_time": "2025-01-29T08:53:51.364646Z"
    }
   },
   "cell_type": "code",
   "source": [
    "work_type_dict = {'Private' : 1,\n",
    "                  'Self-employed' : 3,\n",
    "                  'Govt_job' : 2,\n",
    "                  'children' : -1,\n",
    "                  'Never_worked' : 0}\n",
    "\n",
    "residence_type_dict = {'Urban' : 0,\n",
    "                       'Rural' : 1 }\n",
    "\n",
    "smoking_status_dict = {'never smoked' : 0,\n",
    "                       'smokes' : 1,\n",
    "                       'formerly smoked' : 2,\n",
    "                       'Unknown' : -1}\n",
    "\n",
    "gender_dict = {'Male' : 1,\n",
    "               'Female' : 0,\n",
    "               'Other' : -1}\n",
    "\n",
    "ever_married_dict = {'No' : 0 , 'Yes' : 1}"
   ],
   "id": "ca4dc876a1c9b76c",
   "outputs": [],
   "execution_count": 14
  },
  {
   "metadata": {
    "ExecuteTime": {
     "end_time": "2025-01-29T08:53:51.537057Z",
     "start_time": "2025-01-29T08:53:51.521440Z"
    }
   },
   "cell_type": "code",
   "source": "df_copied.info()",
   "id": "6398f94995f94a65",
   "outputs": [
    {
     "name": "stdout",
     "output_type": "stream",
     "text": [
      "<class 'pandas.core.frame.DataFrame'>\n",
      "Index: 747 entries, 4686 to 3129\n",
      "Data columns (total 11 columns):\n",
      " #   Column             Non-Null Count  Dtype  \n",
      "---  ------             --------------  -----  \n",
      " 0   gender             747 non-null    object \n",
      " 1   age                747 non-null    float64\n",
      " 2   hypertension       747 non-null    int64  \n",
      " 3   heart_disease      747 non-null    int64  \n",
      " 4   ever_married       747 non-null    object \n",
      " 5   work_type          747 non-null    object \n",
      " 6   Residence_type     747 non-null    object \n",
      " 7   avg_glucose_level  747 non-null    float64\n",
      " 8   bmi                747 non-null    float64\n",
      " 9   smoking_status     747 non-null    object \n",
      " 10  stroke             747 non-null    int64  \n",
      "dtypes: float64(3), int64(3), object(5)\n",
      "memory usage: 86.2+ KB\n"
     ]
    }
   ],
   "execution_count": 15
  },
  {
   "metadata": {
    "ExecuteTime": {
     "end_time": "2025-01-29T08:53:51.631447Z",
     "start_time": "2025-01-29T08:53:51.615753Z"
    }
   },
   "cell_type": "code",
   "source": [
    "cnvrt_cat2num('work_type',work_type_dict,df_copied)\n",
    "cnvrt_cat2num('smoking_status',smoking_status_dict,df_copied)\n",
    "cnvrt_cat2num('Residence_type',residence_type_dict,df_copied)\n",
    "cnvrt_cat2num('gender',gender_dict,df_copied)\n",
    "cnvrt_cat2num('ever_married',ever_married_dict,df_copied)"
   ],
   "id": "c9e935096369bf55",
   "outputs": [],
   "execution_count": 16
  },
  {
   "metadata": {
    "ExecuteTime": {
     "end_time": "2025-01-29T08:53:51.678719Z",
     "start_time": "2025-01-29T08:53:51.647163Z"
    }
   },
   "cell_type": "code",
   "source": "df_copied.info()",
   "id": "8b1438f6e902b7c7",
   "outputs": [
    {
     "name": "stdout",
     "output_type": "stream",
     "text": [
      "<class 'pandas.core.frame.DataFrame'>\n",
      "Index: 747 entries, 4686 to 3129\n",
      "Data columns (total 11 columns):\n",
      " #   Column             Non-Null Count  Dtype  \n",
      "---  ------             --------------  -----  \n",
      " 0   gender             747 non-null    int64  \n",
      " 1   age                747 non-null    float64\n",
      " 2   hypertension       747 non-null    int64  \n",
      " 3   heart_disease      747 non-null    int64  \n",
      " 4   ever_married       747 non-null    int64  \n",
      " 5   work_type          747 non-null    int64  \n",
      " 6   Residence_type     747 non-null    int64  \n",
      " 7   avg_glucose_level  747 non-null    float64\n",
      " 8   bmi                747 non-null    float64\n",
      " 9   smoking_status     747 non-null    int64  \n",
      " 10  stroke             747 non-null    int64  \n",
      "dtypes: float64(3), int64(8)\n",
      "memory usage: 86.2 KB\n"
     ]
    }
   ],
   "execution_count": 17
  },
  {
   "metadata": {
    "ExecuteTime": {
     "end_time": "2025-01-29T08:53:51.949517Z",
     "start_time": "2025-01-29T08:53:51.732826Z"
    }
   },
   "cell_type": "code",
   "source": [
    "plt.figure(figsize=(15,20))\n",
    "sns.heatmap(df_copied.select_dtypes(include=['number']).corr()[['stroke']].sort_values(by='stroke',ascending=False),\n",
    "            annot=True, linewidths=2, linecolor='white',cbar=False, cmap = 'coolwarm')\n",
    "plt.title('STROKE CORRELATION ANALYSIS')\n",
    "plt.show()"
   ],
   "id": "de0935ae284aea8a",
   "outputs": [
    {
     "data": {
      "text/plain": [
       "<Figure size 1500x2000 with 1 Axes>"
      ],
      "image/png": "[encoded data removed]"
     },
     "metadata": {},
     "output_type": "display_data"
    }
   ],
   "execution_count": 18
  },
  {
   "metadata": {
    "ExecuteTime": {
     "end_time": "2025-01-29T08:53:52.008020Z",
     "start_time": "2025-01-29T08:53:51.992337Z"
    }
   },
   "cell_type": "code",
   "source": [
    "X = df_copied[['age','heart_disease','avg_glucose_level','hypertension','ever_married']]\n",
    "y = df_copied['stroke']"
   ],
   "id": "69601a16763d354",
   "outputs": [],
   "execution_count": 19
  },
  {
   "metadata": {
    "ExecuteTime": {
     "end_time": "2025-01-29T08:53:52.070635Z",
     "start_time": "2025-01-29T08:53:52.055078Z"
    }
   },
   "cell_type": "code",
   "source": "X_train, X_test, y_train, y_test = train_test_split(X, y, test_size=0.1, random_state=42)",
   "id": "4e1216defe9b195a",
   "outputs": [],
   "execution_count": 20
  },
  {
   "metadata": {
    "ExecuteTime": {
     "end_time": "2025-01-29T08:53:52.133216Z",
     "start_time": "2025-01-29T08:53:52.117520Z"
    }
   },
   "cell_type": "code",
   "source": [
    "steps = [('scale',StandardScaler()), ('LR',LogisticRegression())]\n",
    "log_reg_pipe = Pipeline(steps=steps)"
   ],
   "id": "a555d1086cef01a2",
   "outputs": [],
   "execution_count": 21
  },
  {
   "metadata": {
    "ExecuteTime": {
     "end_time": "2025-01-29T08:53:52.208987Z",
     "start_time": "2025-01-29T08:53:52.193160Z"
    }
   },
   "cell_type": "code",
   "source": [
    "# model training\n",
    "log_reg_pipe.fit(X_train, y_train)\n",
    "\n",
    "# model test\n",
    "y_pred = log_reg_pipe.predict(X_test)\n"
   ],
   "id": "f9034a29de3b366",
   "outputs": [],
   "execution_count": 22
  },
  {
   "metadata": {
    "ExecuteTime": {
     "end_time": "2025-01-29T08:53:52.267880Z",
     "start_time": "2025-01-29T08:53:52.252235Z"
    }
   },
   "cell_type": "code",
   "source": [
    "print(\"accuracy : \\n\",accuracy_score(y_test, y_pred))\n",
    "print(\"cr : \\n\",classification_report(y_test, y_pred))   \n",
    "print(\"cm : \\n\",confusion_matrix(y_test, y_pred))\n"
   ],
   "id": "4d6e7a3f87203815",
   "outputs": [
    {
     "name": "stdout",
     "output_type": "stream",
     "text": [
      "accuracy : \n",
      " 0.84\n",
      "cr : \n",
      "               precision    recall  f1-score   support\n",
      "\n",
      "           0       0.86      0.90      0.88        49\n",
      "           1       0.79      0.73      0.76        26\n",
      "\n",
      "    accuracy                           0.84        75\n",
      "   macro avg       0.83      0.81      0.82        75\n",
      "weighted avg       0.84      0.84      0.84        75\n",
      "\n",
      "cm : \n",
      " [[44  5]\n",
      " [ 7 19]]\n"
     ]
    }
   ],
   "execution_count": 23
  },
  {
   "metadata": {
    "ExecuteTime": {
     "end_time": "2025-01-29T08:53:52.330568Z",
     "start_time": "2025-01-29T08:53:52.314946Z"
    }
   },
   "cell_type": "code",
   "source": "",
   "id": "ab2944ac2b999143",
   "outputs": [],
   "execution_count": null
  }
 ],
 "metadata": {
  "kernelspec": {
   "display_name": "Python 3",
   "language": "python",
   "name": "python3"
  },
  "language_info": {
   "codemirror_mode": {
    "name": "ipython",
    "version": 2
   },
   "file_extension": ".py",
   "mimetype": "text/x-python",
   "name": "python",
   "nbconvert_exporter": "python",
   "pygments_lexer": "ipython2",
   "version": "2.7.6"
  }
 },
 "nbformat": 4,
 "nbformat_minor": 5
}
